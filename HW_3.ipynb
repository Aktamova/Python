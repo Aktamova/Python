{
 "cells": [
  {
   "cell_type": "code",
   "execution_count": 2,
   "metadata": {},
   "outputs": [],
   "source": [
    "a = int(input(\"birinchi raqamni kiriting\"))\n",
    "b = int(input(\"ikkinchi sonni kiriting\"))\n",
    "a,b = b,a"
   ]
  },
  {
   "cell_type": "code",
   "execution_count": 1,
   "metadata": {},
   "outputs": [
    {
     "name": "stdout",
     "output_type": "stream",
     "text": [
      "a = 8 , b = 5\n"
     ]
    }
   ],
   "source": [
    "a = int(input(\"birinchi raqamni kiriting\"))\n",
    "b = int(input(\"ikkinchi sonni kiriting\"))\n",
    "S = a+b\n",
    "a = S-a\n",
    "b = S-b\n",
    "print(f'a = {a} , b = {b}')"
   ]
  },
  {
   "cell_type": "code",
   "execution_count": 1,
   "metadata": {},
   "outputs": [
    {
     "name": "stdout",
     "output_type": "stream",
     "text": [
      "a = 5 , b = 9\n"
     ]
    }
   ],
   "source": [
    "a = int(input(\"birinchi raqamni kiriting\"))\n",
    "b = int(input(\"ikkinchi sonni kiriting\"))\n",
    "a = a+b\n",
    "b = a-b\n",
    "a = a-b\n",
    "print(f'a = {a} , b = {b}')"
   ]
  },
  {
   "cell_type": "code",
   "execution_count": 13,
   "metadata": {},
   "outputs": [
    {
     "data": {
      "text/plain": [
       "[1, 2]"
      ]
     },
     "execution_count": 13,
     "metadata": {},
     "output_type": "execute_result"
    }
   ],
   "source": [
    "ls = [int(input(\"birinchi raqamni kiriting\")), int(input(\"ikkinchi sonni kiriting\"))]\n",
    "ls.reverse\n",
    "ls"
   ]
  }
 ],
 "metadata": {
  "kernelspec": {
   "display_name": "Python 3",
   "language": "python",
   "name": "python3"
  },
  "language_info": {
   "codemirror_mode": {
    "name": "ipython",
    "version": 3
   },
   "file_extension": ".py",
   "mimetype": "text/x-python",
   "name": "python",
   "nbconvert_exporter": "python",
   "pygments_lexer": "ipython3",
   "version": "3.13.1"
  }
 },
 "nbformat": 4,
 "nbformat_minor": 2
}
