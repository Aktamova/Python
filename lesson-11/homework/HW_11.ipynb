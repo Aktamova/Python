{
 "cells": [
  {
   "cell_type": "markdown",
   "metadata": {},
   "source": [
    "bank account\n",
    "\n",
    "account = 0\n",
    "\n",
    "deposit = account +=any deposit\n",
    "\n",
    "withdrawal = account -=any withdrawal (if withdrawal money > account, then print 'not enough money in balance')\n",
    "\n",
    "check_balance = need to check money inside of account"
   ]
  },
  {
   "cell_type": "code",
   "execution_count": null,
   "metadata": {},
   "outputs": [],
   "source": [
    "class BankAccount:\n",
    "    def __init__(self, initial_balance=0.0):\n",
    "        self._balance = initial_balance  \n",
    "\n",
    "    def deposit(self, amount):\n",
    "        if amount > 0:\n",
    "            self._balance += amount\n",
    "            return f\"Deposited: ${amount:.2f}. New balance: ${self._balance:.2f}\"\n",
    "        return \"Deposit amount must be positive.\"\n",
    "\n",
    "    def withdraw(self, amount):\n",
    "        if amount > 0:\n",
    "            if amount <= self._balance:\n",
    "                self._balance -= amount\n",
    "                return f\"Withdrew: ${amount:.2f}. Remaining balance: ${self._balance:.2f}\"\n",
    "            return \"Error: Insufficient funds.\"\n",
    "        return \"Withdrawal amount must be positive.\"\n",
    "\n",
    "    def get_balance(self):\n",
    "        return self._balance\n",
    "\n",
    "account = BankAccount(100)  \n",
    "account.deposit(100)\n",
    "account.get_balance()\n",
    "account.withdraw(150)"
   ]
  },
  {
   "cell_type": "markdown",
   "metadata": {},
   "source": [
    "create a function that will find sum of digits I provide (use for loop)"
   ]
  },
  {
   "cell_type": "code",
   "execution_count": 3,
   "metadata": {},
   "outputs": [
    {
     "name": "stdout",
     "output_type": "stream",
     "text": [
      "6\n"
     ]
    }
   ],
   "source": [
    "def sum_digits(*arg):\n",
    "    sum = 0\n",
    "    for num in arg:\n",
    "        sum += num\n",
    "    print(sum) \n",
    "\n",
    "sum_digits(1, 2, 3)"
   ]
  }
 ],
 "metadata": {
  "kernelspec": {
   "display_name": "Python 3",
   "language": "python",
   "name": "python3"
  },
  "language_info": {
   "codemirror_mode": {
    "name": "ipython",
    "version": 3
   },
   "file_extension": ".py",
   "mimetype": "text/x-python",
   "name": "python",
   "nbconvert_exporter": "python",
   "pygments_lexer": "ipython3",
   "version": "3.13.1"
  }
 },
 "nbformat": 4,
 "nbformat_minor": 2
}
