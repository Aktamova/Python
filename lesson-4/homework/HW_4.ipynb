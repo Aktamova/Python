{
 "cells": [
  {
   "cell_type": "markdown",
   "metadata": {},
   "source": [
    "1. Create a Dictionary from Two Lists\n",
    "Given two lists:\n",
    "```python\n",
    "keys = [\"name\", \"age\", \"city\"]\n",
    "values = [\"Alice\", 25, \"New York\"]\n",
    "```\n",
    "Create a dictionary mapping keys to values using a built-in function."
   ]
  },
  {
   "cell_type": "code",
   "execution_count": 1,
   "metadata": {},
   "outputs": [
    {
     "name": "stdout",
     "output_type": "stream",
     "text": [
      "{'name': 'Alice', 'age': 25, 'city': 'New York'}\n"
     ]
    }
   ],
   "source": [
    "keys = [\"name\", \"age\", \"city\"]\n",
    "values = [\"Alice\", 25, \"New York\"]\n",
    "\n",
    "my_dict = dict(zip(keys, values))\n",
    "print(my_dict)\n"
   ]
  },
  {
   "cell_type": "markdown",
   "metadata": {},
   "source": [
    "2. Find the Maximum Value in a Dictionary\n",
    "Given the dictionary:\n",
    "```python\n",
    "scores = {\"Alice\": 85, \"Bob\": 92, \"Charlie\": 78}\n",
    "```\n",
    "Find the name of the student with the highest score using a single built-in function."
   ]
  },
  {
   "cell_type": "code",
   "execution_count": 2,
   "metadata": {},
   "outputs": [
    {
     "name": "stdout",
     "output_type": "stream",
     "text": [
      "Bob\n"
     ]
    }
   ],
   "source": [
    "scores = {\"Alice\": 85, \"Bob\": 92, \"Charlie\": 78}\n",
    "\n",
    "top_student = max(scores, key=scores.get)\n",
    "print(top_student)\n"
   ]
  },
  {
   "cell_type": "markdown",
   "metadata": {},
   "source": [
    "3. Find the Union of Two Sets\n",
    "Given two sets:\n",
    "```python\n",
    "A = {1, 2, 3, 4}\n",
    "B = {3, 4, 5, 6}\n",
    "```\n",
    "Find the union of these sets using a built-in set method."
   ]
  },
  {
   "cell_type": "code",
   "execution_count": null,
   "metadata": {},
   "outputs": [
    {
     "name": "stdout",
     "output_type": "stream",
     "text": [
      "{1, 2, 3, 4, 5, 6}\n"
     ]
    }
   ],
   "source": [
    "A = {1, 2, 3, 4}\n",
    "B = {3, 4, 5, 6}\n",
    "\n",
    "union_set = A.union(B)\n",
    "print(union_set)"
   ]
  },
  {
   "cell_type": "markdown",
   "metadata": {},
   "source": [
    "4. Check if a Key Exists in a Dictionary\n",
    "Given the dictionary:\n",
    "```python\n",
    "person = {\"name\": \"John\", \"age\": 30, \"city\": \"London\"}\n",
    "```\n",
    "Check if `\"age\"` exists in the dictionary without using a loop."
   ]
  },
  {
   "cell_type": "code",
   "execution_count": null,
   "metadata": {},
   "outputs": [
    {
     "name": "stdout",
     "output_type": "stream",
     "text": [
      "Key exists!\n"
     ]
    }
   ],
   "source": [
    "person = {\"name\": \"John\", \"age\": 30, \"city\": \"London\"}\n",
    "\n",
    "if \"age\" in person:\n",
    "    print(\"Key exists.\")\n",
    "else:\n",
    "    print(\"Key does not exist.\")"
   ]
  },
  {
   "cell_type": "markdown",
   "metadata": {},
   "source": [
    "5. Get Unique Values from a Dictionary\n",
    "Given the dictionary:\n",
    "```python\n",
    "grades = {\"Alice\": \"A\", \"Bob\": \"B\", \"Charlie\": \"A\", \"David\": \"C\"}\n",
    "```\n",
    "Extract a set of all unique grades using a single line of code."
   ]
  },
  {
   "cell_type": "code",
   "execution_count": 5,
   "metadata": {},
   "outputs": [
    {
     "name": "stdout",
     "output_type": "stream",
     "text": [
      "{'B', 'A', 'C'}\n"
     ]
    }
   ],
   "source": [
    "grades = {\"Alice\": \"A\", \"Bob\": \"B\", \"Charlie\": \"A\", \"David\": \"C\"}\n",
    "\n",
    "unique_grades = set(grades.values())\n",
    "print(unique_grades)\n"
   ]
  },
  {
   "cell_type": "markdown",
   "metadata": {},
   "source": [
    "6. Convert a List of Tuples into a Dictionary\n",
    "Given a list of tuples:\n",
    "```python\n",
    "pairs = [(\"one\", 1), (\"two\", 2), (\"three\", 3)]\n",
    "```\n",
    "Convert it into a dictionary using a built-in function."
   ]
  },
  {
   "cell_type": "code",
   "execution_count": 6,
   "metadata": {},
   "outputs": [
    {
     "name": "stdout",
     "output_type": "stream",
     "text": [
      "{'one': 1, 'two': 2, 'three': 3}\n"
     ]
    }
   ],
   "source": [
    "pairs = [(\"one\", 1), (\"two\", 2), (\"three\", 3)]\n",
    "\n",
    "my_dict = dict(pairs)\n",
    "print(my_dict)\n"
   ]
  },
  {
   "cell_type": "markdown",
   "metadata": {},
   "source": [
    "7. Find the Minimum Value in a Dictionary\n",
    "Given the dictionary:\n",
    "```python\n",
    "temperatures = {\"Monday\": 20, \"Tuesday\": 15, \"Wednesday\": 22}\n",
    "```\n",
    "Find the day with the lowest temperature using a single built-in function."
   ]
  },
  {
   "cell_type": "code",
   "execution_count": null,
   "metadata": {},
   "outputs": [
    {
     "name": "stdout",
     "output_type": "stream",
     "text": [
      "Tuesday\n"
     ]
    }
   ],
   "source": [
    "temperatures = {\"Monday\": 20, \"Tuesday\": 15, \"Wednesday\": 22}\n",
    "\n",
    "coldest_day = min(temperatures, key=temperatures.get)\n",
    "print(coldest_day)"
   ]
  },
  {
   "cell_type": "markdown",
   "metadata": {},
   "source": [
    "8. Get the Difference of Two Sets\n",
    "Given two sets:\n",
    "```python\n",
    "X = {10, 20, 30, 40}\n",
    "Y = {30, 40, 50, 60}\n",
    "```\n",
    "Find the elements that are in `X` but not in `Y` using a set method."
   ]
  },
  {
   "cell_type": "code",
   "execution_count": 8,
   "metadata": {},
   "outputs": [
    {
     "name": "stdout",
     "output_type": "stream",
     "text": [
      "{10, 20}\n"
     ]
    }
   ],
   "source": [
    "X = {10, 20, 30, 40}\n",
    "Y = {30, 40, 50, 60}\n",
    "\n",
    "diff_set = X.difference(Y)\n",
    "print(diff_set)"
   ]
  }
 ],
 "metadata": {
  "kernelspec": {
   "display_name": "Python 3",
   "language": "python",
   "name": "python3"
  },
  "language_info": {
   "codemirror_mode": {
    "name": "ipython",
    "version": 3
   },
   "file_extension": ".py",
   "mimetype": "text/x-python",
   "name": "python",
   "nbconvert_exporter": "python",
   "pygments_lexer": "ipython3",
   "version": "3.13.1"
  }
 },
 "nbformat": 4,
 "nbformat_minor": 2
}
