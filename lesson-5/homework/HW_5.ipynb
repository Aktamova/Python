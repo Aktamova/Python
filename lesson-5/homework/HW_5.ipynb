{
 "cells": [
  {
   "cell_type": "markdown",
   "metadata": {},
   "source": [
    "## Homeworks:\n",
    "Write a program that will check evennes of given number\n",
    "From given 3 numbers from input, find the biggest number\n",
    "Write a program that will find if the number is vowel (aeiou) or consonant"
   ]
  },
  {
   "cell_type": "markdown",
   "metadata": {},
   "source": [
    "Homework 1"
   ]
  },
  {
   "cell_type": "code",
   "execution_count": 1,
   "metadata": {},
   "outputs": [
    {
     "name": "stdout",
     "output_type": "stream",
     "text": [
      "15 is odd number\n"
     ]
    }
   ],
   "source": [
    "a = int(input(\"Write a number: \"))\n",
    "if a % 2 == 0:\n",
    "    print(f\"{a} is even number\")\n",
    "else:\n",
    "    print(f\"{a} is odd number\")\n"
   ]
  },
  {
   "cell_type": "markdown",
   "metadata": {},
   "source": [
    "Homework 2"
   ]
  },
  {
   "cell_type": "code",
   "execution_count": 4,
   "metadata": {},
   "outputs": [
    {
     "name": "stdout",
     "output_type": "stream",
     "text": [
      "28 is max\n"
     ]
    }
   ],
   "source": [
    "a = int(input(\"First number: \"))\n",
    "b = int(input(\"Second number: \"))\n",
    "c = int(input(\"Third number: \"))\n",
    "if a > b and a > c:\n",
    "    print(f\"{a} is max\")\n",
    "elif b > a and b > c:\n",
    "    print(f\"{b} is max\") \n",
    "else :\n",
    "    print(f\"{c} is max\")"
   ]
  },
  {
   "cell_type": "markdown",
   "metadata": {},
   "source": [
    "Homework 3"
   ]
  },
  {
   "cell_type": "code",
   "execution_count": 3,
   "metadata": {},
   "outputs": [
    {
     "name": "stdout",
     "output_type": "stream",
     "text": [
      "o is vowel\n"
     ]
    }
   ],
   "source": [
    "a = input(\"Write a letter \").lower()\n",
    "if a in ('a', 'e', 'i', 'o', 'u'):\n",
    "    print(f\"{a} is vowel\")\n",
    "else :\n",
    "    print(f\"{a} is consonant\")"
   ]
  }
 ],
 "metadata": {
  "kernelspec": {
   "display_name": "Python 3",
   "language": "python",
   "name": "python3"
  },
  "language_info": {
   "codemirror_mode": {
    "name": "ipython",
    "version": 3
   },
   "file_extension": ".py",
   "mimetype": "text/x-python",
   "name": "python",
   "nbconvert_exporter": "python",
   "pygments_lexer": "ipython3",
   "version": "3.13.1"
  }
 },
 "nbformat": 4,
 "nbformat_minor": 2
}
