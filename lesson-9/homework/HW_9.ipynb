{
 "cells": [
  {
   "cell_type": "markdown",
   "metadata": {},
   "source": [
    "Puzzle 1: Create a Simple Class\n",
    "\n",
    "Define a class Car with attributes brand and year. Create an object and print its attributes."
   ]
  },
  {
   "cell_type": "code",
   "execution_count": 4,
   "metadata": {},
   "outputs": [
    {
     "name": "stdout",
     "output_type": "stream",
     "text": [
      "Brand nomi: BMW \n",
      "Yili: 2000\n"
     ]
    }
   ],
   "source": [
    "class Car:\n",
    "    def __init__(self, brand, year):\n",
    "        self.brand = brand\n",
    "        self.year = year\n",
    "    def info(self):\n",
    "        print(f'Brand nomi: {self.brand} \\nYili: {self.year}')\n",
    "\n",
    "car1 = Car('BMW', 2000)\n",
    "car1.info()"
   ]
  },
  {
   "cell_type": "markdown",
   "metadata": {},
   "source": [
    "Puzzle 2: Default Constructor\n",
    "\n",
    "Create a class Person with a default constructor that sets name = \"John\" and age = 30."
   ]
  },
  {
   "cell_type": "code",
   "execution_count": 12,
   "metadata": {},
   "outputs": [
    {
     "name": "stdout",
     "output_type": "stream",
     "text": [
      "Name = John \n",
      "Age = 30\n"
     ]
    }
   ],
   "source": [
    "class Person:\n",
    "    def __init__(self):\n",
    "        self.name = \"John\"\n",
    "        self.age = 30\n",
    "\n",
    "    def display(self):\n",
    "        print(f'Name = {self.name} \\nAge = {self.age}')\n",
    "\n",
    "person = Person()\n",
    "person.display()"
   ]
  },
  {
   "cell_type": "markdown",
   "metadata": {},
   "source": [
    "Puzzle 3: Class Method\n",
    "\n",
    "Create a class Circle with an attribute radius and a method area() that returns the area of the circle."
   ]
  },
  {
   "cell_type": "code",
   "execution_count": 19,
   "metadata": {},
   "outputs": [
    {
     "data": {
      "text/plain": [
       "78.53981633974483"
      ]
     },
     "execution_count": 19,
     "metadata": {},
     "output_type": "execute_result"
    }
   ],
   "source": [
    "import math\n",
    "class Circle:\n",
    "    def __init__(self, radius):\n",
    "        self.radius = radius\n",
    "    def area(self):\n",
    "        return math.pi * self.radius**2\n",
    "    \n",
    "circle1 = Circle(5)\n",
    "circle1.area()"
   ]
  },
  {
   "cell_type": "markdown",
   "metadata": {},
   "source": [
    "Puzzle 4: Class with Multiple Methods\n",
    "\n",
    "Define a class Rectangle with methods area() and perimeter()."
   ]
  },
  {
   "cell_type": "code",
   "execution_count": 20,
   "metadata": {},
   "outputs": [
    {
     "name": "stdout",
     "output_type": "stream",
     "text": [
      "The area of rectangle is 30\n",
      "The perimetr of rectangle is 22\n"
     ]
    }
   ],
   "source": [
    "class Rectangle:\n",
    "    def __init__(self, a, b):\n",
    "        self.a =a\n",
    "        self.b =b\n",
    "    def area(self):\n",
    "        print(f'The area of rectangle is {self.a*self.b}')\n",
    "    def perimetr(self):\n",
    "        print(f'The perimetr of rectangle is {(self.a + self.b)*2}')\n",
    "\n",
    "first = Rectangle(5, 6)\n",
    "first.area()\n",
    "first.perimetr()"
   ]
  },
  {
   "cell_type": "markdown",
   "metadata": {},
   "source": [
    "Puzzle 5: Encapsulation\n",
    "\n",
    "Create a class BankAccount with a private attribute _balance. Provide methods to deposit and withdraw money."
   ]
  },
  {
   "cell_type": "code",
   "execution_count": 4,
   "metadata": {},
   "outputs": [
    {
     "data": {
      "text/plain": [
       "'Withdrew: $150.00. Remaining balance: $50.00'"
      ]
     },
     "execution_count": 4,
     "metadata": {},
     "output_type": "execute_result"
    }
   ],
   "source": [
    "class BankAccount:\n",
    "    def __init__(self, initial_balance=0.0):\n",
    "        self._balance = initial_balance  \n",
    "\n",
    "    def deposit(self, amount):\n",
    "        if amount > 0:\n",
    "            self._balance += amount\n",
    "            return f\"Deposited: ${amount:.2f}. New balance: ${self._balance:.2f}\"\n",
    "        return \"Deposit amount must be positive.\"\n",
    "\n",
    "    def withdraw(self, amount):\n",
    "        if amount > 0:\n",
    "            if amount <= self._balance:\n",
    "                self._balance -= amount\n",
    "                return f\"Withdrew: ${amount:.2f}. Remaining balance: ${self._balance:.2f}\"\n",
    "            return \"Error: Insufficient funds.\"\n",
    "        return \"Withdrawal amount must be positive.\"\n",
    "\n",
    "    def get_balance(self):\n",
    "        return self._balance\n",
    "\n",
    "account = BankAccount(100)  \n",
    "account.deposit(100)\n",
    "account.get_balance()\n",
    "account.withdraw(150)"
   ]
  },
  {
   "cell_type": "markdown",
   "metadata": {},
   "source": [
    "Puzzle 6: Addition\n",
    "\n",
    "Create a class method that will add x to y. Show the output"
   ]
  },
  {
   "cell_type": "code",
   "execution_count": 22,
   "metadata": {},
   "outputs": [
    {
     "name": "stdout",
     "output_type": "stream",
     "text": [
      "The sum of x and y:  11\n"
     ]
    }
   ],
   "source": [
    "class Addition:\n",
    "    def __init__(self, x, y):\n",
    "        self.x = x\n",
    "        self.y = y\n",
    "    def Add(self):    \n",
    "        print(f'The sum of x and y:  {self.x + self.y}')\n",
    "first = Addition(5, 6)\n",
    "first.Add()\n",
    "    "
   ]
  },
  {
   "cell_type": "markdown",
   "metadata": {},
   "source": [
    "Puzzle 7. Multiple Inheritance\n",
    "\n",
    "Create classes A and B. Create a class C that inherits from both."
   ]
  },
  {
   "cell_type": "code",
   "execution_count": 13,
   "metadata": {},
   "outputs": [
    {
     "name": "stdout",
     "output_type": "stream",
     "text": [
      "Umida TSUE\n"
     ]
    }
   ],
   "source": [
    "class A:\n",
    "    def __init__(self, name, age):\n",
    "        self.name = name\n",
    "        self.age = age\n",
    "class B:\n",
    "    def __init__(self, country, university):\n",
    "        self.country = country\n",
    "        self.university = university\n",
    "\n",
    "class C(A, B):\n",
    "    def __init__(self, name, age, country, university):\n",
    "        A.__init__(self, name, age) \n",
    "        B.__init__(self, country, university)\n",
    "\n",
    "item = C('Umida', 22, 'Uzb', 'TSUE')\n",
    "print(item.name, item.university)    "
   ]
  },
  {
   "cell_type": "markdown",
   "metadata": {},
   "source": [
    "Puzzle 8: Private Methods\n",
    "\n",
    "Create a class Secret with a private method _hidden_message() that prints \"This is private\"."
   ]
  },
  {
   "cell_type": "code",
   "execution_count": 16,
   "metadata": {},
   "outputs": [
    {
     "name": "stdout",
     "output_type": "stream",
     "text": [
      "This is private\n"
     ]
    }
   ],
   "source": [
    "class Secret:\n",
    "    def __init__(self):\n",
    "        pass\n",
    "        \n",
    "    def __hidden_message(self):\n",
    "        print(\"This is private\")\n",
    "\n",
    "    def reveal(self):\n",
    "        self.__hidden_message()\n",
    "\n",
    "secret_obj = Secret()\n",
    "secret_obj.reveal() "
   ]
  },
  {
   "cell_type": "markdown",
   "metadata": {},
   "source": [
    "Puzzle 9: Class with a Counter\n",
    "\n",
    "Create a class Student that keeps track of the total number of students created."
   ]
  },
  {
   "cell_type": "code",
   "execution_count": 22,
   "metadata": {},
   "outputs": [
    {
     "name": "stdout",
     "output_type": "stream",
     "text": [
      "Total students: 2\n"
     ]
    }
   ],
   "source": [
    "class Student:\n",
    "    total_students = 0 \n",
    "\n",
    "    def __init__(self, name):\n",
    "        self.name = name\n",
    "        Student.total_students += 1  \n",
    "\n",
    "    def get_total_students():\n",
    "        return Student.total_students  \n",
    "\n",
    "s1 = Student(\"Alice\")\n",
    "s2 = Student(\"Bob\")\n",
    "# s3 = Student(\"Charlie\")\n",
    "\n",
    "print(f\"Total students: {Student.get_total_students()}\")  "
   ]
  },
  {
   "cell_type": "markdown",
   "metadata": {},
   "source": [
    "Puzzle 10: Class with a Generator Method\n",
    "\n",
    "Create a class EvenNumbers that generates even numbers up to a given limit using a method generate_even()."
   ]
  },
  {
   "cell_type": "code",
   "execution_count": 26,
   "metadata": {},
   "outputs": [
    {
     "name": "stdout",
     "output_type": "stream",
     "text": [
      "[2, 4, 6, 8, 10]\n"
     ]
    }
   ],
   "source": [
    "class EvenNumbers:\n",
    "    def __init__(self, limit):\n",
    "        self.limit = limit\n",
    "\n",
    "    def generate_even(self):\n",
    "        lst =[]\n",
    "        for num in range(1, self.limit + 1,):\n",
    "            if num %2 == 0:\n",
    "                lst.append(num) \n",
    "        print(lst)              \n",
    "\n",
    "evens = EvenNumbers(10)\n",
    "evens.generate_even()"
   ]
  }
 ],
 "metadata": {
  "kernelspec": {
   "display_name": "Python 3",
   "language": "python",
   "name": "python3"
  },
  "language_info": {
   "codemirror_mode": {
    "name": "ipython",
    "version": 3
   },
   "file_extension": ".py",
   "mimetype": "text/x-python",
   "name": "python",
   "nbconvert_exporter": "python",
   "pygments_lexer": "ipython3",
   "version": "3.13.1"
  }
 },
 "nbformat": 4,
 "nbformat_minor": 2
}
